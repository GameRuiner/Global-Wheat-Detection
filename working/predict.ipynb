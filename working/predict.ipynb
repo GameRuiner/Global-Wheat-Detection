{
 "cells": [
  {
   "cell_type": "code",
   "execution_count": 6,
   "metadata": {},
   "outputs": [],
   "source": [
    "from ultralytics import YOLO\n",
    "import pandas as pd\n",
    "import os\n",
    "import numpy as np"
   ]
  },
  {
   "cell_type": "code",
   "execution_count": 7,
   "metadata": {},
   "outputs": [],
   "source": [
    "model = YOLO('./runs/detect/train/weights/best.pt')"
   ]
  },
  {
   "cell_type": "code",
   "execution_count": 8,
   "metadata": {},
   "outputs": [
    {
     "name": "stdout",
     "output_type": "stream",
     "text": [
      "\n",
      "image 1/10 d:\\Users\\marko\\ml-study-jam\\wheat\\working\\..\\input\\global-wheat-detection\\test\\2fd875eaa.jpg: 1024x1024 28 wheat_heads, 209.0ms\n",
      "image 2/10 d:\\Users\\marko\\ml-study-jam\\wheat\\working\\..\\input\\global-wheat-detection\\test\\348a992bb.jpg: 1024x1024 36 wheat_heads, 207.4ms\n",
      "image 3/10 d:\\Users\\marko\\ml-study-jam\\wheat\\working\\..\\input\\global-wheat-detection\\test\\51b3e36ab.jpg: 1024x1024 27 wheat_heads, 208.6ms\n",
      "image 4/10 d:\\Users\\marko\\ml-study-jam\\wheat\\working\\..\\input\\global-wheat-detection\\test\\51f1be19e.jpg: 1024x1024 19 wheat_heads, 210.2ms\n",
      "image 5/10 d:\\Users\\marko\\ml-study-jam\\wheat\\working\\..\\input\\global-wheat-detection\\test\\53f253011.jpg: 1024x1024 30 wheat_heads, 217.3ms\n",
      "image 6/10 d:\\Users\\marko\\ml-study-jam\\wheat\\working\\..\\input\\global-wheat-detection\\test\\796707dd7.jpg: 1024x1024 25 wheat_heads, 207.5ms\n",
      "image 7/10 d:\\Users\\marko\\ml-study-jam\\wheat\\working\\..\\input\\global-wheat-detection\\test\\aac893a91.jpg: 1024x1024 22 wheat_heads, 205.4ms\n",
      "image 8/10 d:\\Users\\marko\\ml-study-jam\\wheat\\working\\..\\input\\global-wheat-detection\\test\\cb8d261a3.jpg: 1024x1024 22 wheat_heads, 219.5ms\n",
      "image 9/10 d:\\Users\\marko\\ml-study-jam\\wheat\\working\\..\\input\\global-wheat-detection\\test\\cc3532ff6.jpg: 1024x1024 27 wheat_heads, 208.9ms\n",
      "image 10/10 d:\\Users\\marko\\ml-study-jam\\wheat\\working\\..\\input\\global-wheat-detection\\test\\f5a1f0358.jpg: 1024x1024 26 wheat_heads, 208.8ms\n",
      "Speed: 5.0ms preprocess, 210.3ms inference, 1.0ms postprocess per image at shape (1, 3, 1024, 1024)\n"
     ]
    }
   ],
   "source": [
    "results = model('../input/global-wheat-detection/test')"
   ]
  },
  {
   "cell_type": "code",
   "execution_count": 12,
   "metadata": {},
   "outputs": [],
   "source": [
    "res_len = len(results)\n",
    "ids = np.empty(res_len, dtype='object')\n",
    "strings = np.empty(res_len, dtype='object')\n",
    "\n",
    "for i, result in enumerate(results):\n",
    "    ids[i] = os.path.basename(result.path).split('.')[0]\n",
    "    boxes = result.boxes  # Boxes object for bounding box outputs\n",
    "    string = []\n",
    "    for j, xywh in enumerate(boxes.xywh):\n",
    "        conf = round(boxes.conf[j].item(), 4)\n",
    "        string.append(str(conf))\n",
    "        xywh[0] = xywh[0] - xywh[2] / 2\n",
    "        xywh[1] = xywh[1] - xywh[3] / 2\n",
    "        for e in xywh:\n",
    "            string.append(str(int(e.item())))\n",
    "    strings[i] = ' '.join(string)"
   ]
  },
  {
   "cell_type": "code",
   "execution_count": 13,
   "metadata": {},
   "outputs": [
    {
     "data": {
      "text/html": [
       "<div>\n",
       "<style scoped>\n",
       "    .dataframe tbody tr th:only-of-type {\n",
       "        vertical-align: middle;\n",
       "    }\n",
       "\n",
       "    .dataframe tbody tr th {\n",
       "        vertical-align: top;\n",
       "    }\n",
       "\n",
       "    .dataframe thead th {\n",
       "        text-align: right;\n",
       "    }\n",
       "</style>\n",
       "<table border=\"1\" class=\"dataframe\">\n",
       "  <thead>\n",
       "    <tr style=\"text-align: right;\">\n",
       "      <th></th>\n",
       "      <th>image_id</th>\n",
       "      <th>PredictionString</th>\n",
       "    </tr>\n",
       "  </thead>\n",
       "  <tbody>\n",
       "    <tr>\n",
       "      <th>0</th>\n",
       "      <td>2fd875eaa</td>\n",
       "      <td>0.8943 0 909 105 80 0.8744 466 352 124 97 0.85...</td>\n",
       "    </tr>\n",
       "    <tr>\n",
       "      <th>1</th>\n",
       "      <td>348a992bb</td>\n",
       "      <td>0.8444 735 216 135 88 0.8403 0 308 120 100 0.8...</td>\n",
       "    </tr>\n",
       "    <tr>\n",
       "      <th>2</th>\n",
       "      <td>51b3e36ab</td>\n",
       "      <td>0.8474 0 431 104 314 0.8373 542 22 244 134 0.8...</td>\n",
       "    </tr>\n",
       "    <tr>\n",
       "      <th>3</th>\n",
       "      <td>51f1be19e</td>\n",
       "      <td>0.764 499 457 202 122 0.761 802 755 112 102 0....</td>\n",
       "    </tr>\n",
       "    <tr>\n",
       "      <th>4</th>\n",
       "      <td>53f253011</td>\n",
       "      <td>0.8585 465 456 149 204 0.8397 15 32 143 104 0....</td>\n",
       "    </tr>\n",
       "    <tr>\n",
       "      <th>5</th>\n",
       "      <td>796707dd7</td>\n",
       "      <td>0.7895 894 329 113 93 0.7594 707 824 110 99 0....</td>\n",
       "    </tr>\n",
       "    <tr>\n",
       "      <th>6</th>\n",
       "      <td>aac893a91</td>\n",
       "      <td>0.8245 612 914 88 109 0.8145 562 531 119 188 0...</td>\n",
       "    </tr>\n",
       "    <tr>\n",
       "      <th>7</th>\n",
       "      <td>cb8d261a3</td>\n",
       "      <td>0.8472 262 770 114 76 0.8382 753 710 83 85 0.8...</td>\n",
       "    </tr>\n",
       "    <tr>\n",
       "      <th>8</th>\n",
       "      <td>cc3532ff6</td>\n",
       "      <td>0.8603 488 571 97 134 0.8554 265 640 97 163 0....</td>\n",
       "    </tr>\n",
       "    <tr>\n",
       "      <th>9</th>\n",
       "      <td>f5a1f0358</td>\n",
       "      <td>0.8001 0 839 69 113 0.7888 885 643 91 141 0.78...</td>\n",
       "    </tr>\n",
       "  </tbody>\n",
       "</table>\n",
       "</div>"
      ],
      "text/plain": [
       "    image_id                                   PredictionString\n",
       "0  2fd875eaa  0.8943 0 909 105 80 0.8744 466 352 124 97 0.85...\n",
       "1  348a992bb  0.8444 735 216 135 88 0.8403 0 308 120 100 0.8...\n",
       "2  51b3e36ab  0.8474 0 431 104 314 0.8373 542 22 244 134 0.8...\n",
       "3  51f1be19e  0.764 499 457 202 122 0.761 802 755 112 102 0....\n",
       "4  53f253011  0.8585 465 456 149 204 0.8397 15 32 143 104 0....\n",
       "5  796707dd7  0.7895 894 329 113 93 0.7594 707 824 110 99 0....\n",
       "6  aac893a91  0.8245 612 914 88 109 0.8145 562 531 119 188 0...\n",
       "7  cb8d261a3  0.8472 262 770 114 76 0.8382 753 710 83 85 0.8...\n",
       "8  cc3532ff6  0.8603 488 571 97 134 0.8554 265 640 97 163 0....\n",
       "9  f5a1f0358  0.8001 0 839 69 113 0.7888 885 643 91 141 0.78..."
      ]
     },
     "execution_count": 13,
     "metadata": {},
     "output_type": "execute_result"
    }
   ],
   "source": [
    "output = pd.DataFrame({'image_id': ids, 'PredictionString': strings })\n",
    "\n",
    "output.to_csv('submission.csv', index=False)\n",
    "output"
   ]
  }
 ],
 "metadata": {
  "kernelspec": {
   "display_name": "Python 3",
   "language": "python",
   "name": "python3"
  },
  "language_info": {
   "codemirror_mode": {
    "name": "ipython",
    "version": 3
   },
   "file_extension": ".py",
   "mimetype": "text/x-python",
   "name": "python",
   "nbconvert_exporter": "python",
   "pygments_lexer": "ipython3",
   "version": "3.11.2"
  }
 },
 "nbformat": 4,
 "nbformat_minor": 2
}
